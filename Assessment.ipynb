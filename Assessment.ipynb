{
 "cells": [
  {
   "cell_type": "code",
   "execution_count": 1,
   "metadata": {},
   "outputs": [],
   "source": [
    "import numpy as np\n",
    "import pandas as pd\n",
    "import matplotlib.pyplot as plt\n",
    "import seaborn as sns\n",
    "%matplotlib inline\n",
    "plt.style.use('ggplot')"
   ]
  },
  {
   "cell_type": "code",
   "execution_count": 2,
   "metadata": {},
   "outputs": [],
   "source": [
    "#Read in excel file\n",
    "#last row is total needs to be deleted\n",
    "freq = pd.read_excel('Data.xlsx', sheet_name='city pairs - total flights', header=2)"
   ]
  },
  {
   "cell_type": "code",
   "execution_count": 3,
   "metadata": {},
   "outputs": [
    {
     "name": "stdout",
     "output_type": "stream",
     "text": [
      "<class 'pandas.core.frame.DataFrame'>\n",
      "RangeIndex: 6373 entries, 0 to 6372\n",
      "Data columns (total 2 columns):\n",
      "Row Labels          6373 non-null object\n",
      "Sum of Frequency    6373 non-null int64\n",
      "dtypes: int64(1), object(1)\n",
      "memory usage: 99.7+ KB\n"
     ]
    }
   ],
   "source": [
    "#Initial EDA, check for null values\n",
    "freq.info()"
   ]
  },
  {
   "cell_type": "code",
   "execution_count": 4,
   "metadata": {},
   "outputs": [
    {
     "data": {
      "text/plain": [
       "0"
      ]
     },
     "execution_count": 4,
     "metadata": {},
     "output_type": "execute_result"
    }
   ],
   "source": [
    "#Check for duplicate values\n",
    "freq.duplicated().sum()"
   ]
  },
  {
   "cell_type": "code",
   "execution_count": 5,
   "metadata": {},
   "outputs": [],
   "source": [
    "dep_arr = pd.read_excel('Data.xlsx', sheet_name='incl Dep-Arrival names', header=2)"
   ]
  },
  {
   "cell_type": "code",
   "execution_count": 6,
   "metadata": {},
   "outputs": [
    {
     "data": {
      "text/html": [
       "<div>\n",
       "<style scoped>\n",
       "    .dataframe tbody tr th:only-of-type {\n",
       "        vertical-align: middle;\n",
       "    }\n",
       "\n",
       "    .dataframe tbody tr th {\n",
       "        vertical-align: top;\n",
       "    }\n",
       "\n",
       "    .dataframe thead th {\n",
       "        text-align: right;\n",
       "    }\n",
       "</style>\n",
       "<table border=\"1\" class=\"dataframe\">\n",
       "  <thead>\n",
       "    <tr style=\"text-align: right;\">\n",
       "      <th></th>\n",
       "      <th>Row Labels</th>\n",
       "      <th>Dep City Name</th>\n",
       "      <th>Arr City Name</th>\n",
       "      <th>Sum of Frequency</th>\n",
       "    </tr>\n",
       "  </thead>\n",
       "  <tbody>\n",
       "    <tr>\n",
       "      <td>0</td>\n",
       "      <td>MCM-NCE</td>\n",
       "      <td>Monaco</td>\n",
       "      <td>Nice</td>\n",
       "      <td>32447.0</td>\n",
       "    </tr>\n",
       "    <tr>\n",
       "      <td>1</td>\n",
       "      <td>NaN</td>\n",
       "      <td>Nice</td>\n",
       "      <td>Monaco</td>\n",
       "      <td>32285.0</td>\n",
       "    </tr>\n",
       "    <tr>\n",
       "      <td>2</td>\n",
       "      <td>LED-MOW</td>\n",
       "      <td>Moscow</td>\n",
       "      <td>St Petersburg</td>\n",
       "      <td>20097.0</td>\n",
       "    </tr>\n",
       "    <tr>\n",
       "      <td>3</td>\n",
       "      <td>NaN</td>\n",
       "      <td>St Petersburg</td>\n",
       "      <td>Moscow</td>\n",
       "      <td>20083.0</td>\n",
       "    </tr>\n",
       "    <tr>\n",
       "      <td>4</td>\n",
       "      <td>DUB-LON</td>\n",
       "      <td>Dublin</td>\n",
       "      <td>London (GB)</td>\n",
       "      <td>17331.0</td>\n",
       "    </tr>\n",
       "    <tr>\n",
       "      <td>...</td>\n",
       "      <td>...</td>\n",
       "      <td>...</td>\n",
       "      <td>...</td>\n",
       "      <td>...</td>\n",
       "    </tr>\n",
       "    <tr>\n",
       "      <td>13306</td>\n",
       "      <td>AMS-LEJ</td>\n",
       "      <td>Amsterdam</td>\n",
       "      <td>Leipzig/Halle</td>\n",
       "      <td>1.0</td>\n",
       "    </tr>\n",
       "    <tr>\n",
       "      <td>13307</td>\n",
       "      <td>AAQ-SIP</td>\n",
       "      <td>Simferopol</td>\n",
       "      <td>Anapa</td>\n",
       "      <td>1.0</td>\n",
       "    </tr>\n",
       "    <tr>\n",
       "      <td>13308</td>\n",
       "      <td>ADA-ASR</td>\n",
       "      <td>Adana</td>\n",
       "      <td>Kayseri</td>\n",
       "      <td>1.0</td>\n",
       "    </tr>\n",
       "    <tr>\n",
       "      <td>13309</td>\n",
       "      <td>(blank)</td>\n",
       "      <td>(blank)</td>\n",
       "      <td>(blank)</td>\n",
       "      <td>NaN</td>\n",
       "    </tr>\n",
       "    <tr>\n",
       "      <td>13310</td>\n",
       "      <td>Grand Total</td>\n",
       "      <td>NaN</td>\n",
       "      <td>NaN</td>\n",
       "      <td>6832969.0</td>\n",
       "    </tr>\n",
       "  </tbody>\n",
       "</table>\n",
       "<p>13311 rows × 4 columns</p>\n",
       "</div>"
      ],
      "text/plain": [
       "        Row Labels  Dep City Name  Arr City Name  Sum of Frequency\n",
       "0          MCM-NCE         Monaco           Nice           32447.0\n",
       "1              NaN           Nice         Monaco           32285.0\n",
       "2          LED-MOW         Moscow  St Petersburg           20097.0\n",
       "3              NaN  St Petersburg         Moscow           20083.0\n",
       "4          DUB-LON         Dublin    London (GB)           17331.0\n",
       "...            ...            ...            ...               ...\n",
       "13306      AMS-LEJ      Amsterdam  Leipzig/Halle               1.0\n",
       "13307      AAQ-SIP     Simferopol          Anapa               1.0\n",
       "13308      ADA-ASR          Adana        Kayseri               1.0\n",
       "13309      (blank)        (blank)        (blank)               NaN\n",
       "13310  Grand Total            NaN            NaN         6832969.0\n",
       "\n",
       "[13311 rows x 4 columns]"
      ]
     },
     "execution_count": 6,
     "metadata": {},
     "output_type": "execute_result"
    }
   ],
   "source": [
    "# last two rows to be removed\n",
    "dep_arr"
   ]
  },
  {
   "cell_type": "code",
   "execution_count": 7,
   "metadata": {},
   "outputs": [],
   "source": [
    "# null values in dep city name look to be duplicate departing cities as the cell above it with similar arrival city but a different airport (ex. Paris and Paris (FR) )\n",
    "# Is this correct? I will fill in all null values accordingly to accurately answer the question of \"most popular departing city\""
   ]
  },
  {
   "cell_type": "markdown",
   "metadata": {},
   "source": [
    "## 1A:  \"Display the most popular city for people to fly out (depart) from\""
   ]
  },
  {
   "cell_type": "code",
   "execution_count": 8,
   "metadata": {},
   "outputs": [],
   "source": [
    "distance = pd.read_excel('Data.xlsx', sheet_name='2018EuropePairs0to1k_JobId11276')"
   ]
  },
  {
   "cell_type": "code",
   "execution_count": 9,
   "metadata": {},
   "outputs": [],
   "source": [
    "dep = distance.groupby('Dep City Name')"
   ]
  },
  {
   "cell_type": "code",
   "execution_count": 10,
   "metadata": {},
   "outputs": [],
   "source": [
    "pop_city = dep['Frequency'].sum().sort_values(ascending=False)"
   ]
  },
  {
   "cell_type": "code",
   "execution_count": 11,
   "metadata": {},
   "outputs": [
    {
     "data": {
      "text/plain": [
       "Dep City Name\n",
       "London (GB)    366464\n",
       "Name: Frequency, dtype: int64"
      ]
     },
     "execution_count": 11,
     "metadata": {},
     "output_type": "execute_result"
    }
   ],
   "source": [
    "#The most popular city to depart from is shown below\n",
    "pop_city.head(1)"
   ]
  },
  {
   "cell_type": "code",
   "execution_count": 12,
   "metadata": {},
   "outputs": [
    {
     "data": {
      "text/plain": [
       "8384.011042944785"
      ]
     },
     "execution_count": 12,
     "metadata": {},
     "output_type": "execute_result"
    }
   ],
   "source": [
    "#Average amount of flights out of a particular city in 2018\n",
    "np.mean(pop_city)"
   ]
  },
  {
   "cell_type": "code",
   "execution_count": 13,
   "metadata": {},
   "outputs": [],
   "source": [
    "popularity = distance.groupby('Dep City Name',sort=False)['Frequency'].sum().reset_index(name='Total')"
   ]
  },
  {
   "cell_type": "code",
   "execution_count": 14,
   "metadata": {},
   "outputs": [],
   "source": [
    "p_city=popularity.sort_values(by='Total',ascending=False)"
   ]
  },
  {
   "cell_type": "code",
   "execution_count": 15,
   "metadata": {},
   "outputs": [
    {
     "data": {
      "text/html": [
       "<div>\n",
       "<style scoped>\n",
       "    .dataframe tbody tr th:only-of-type {\n",
       "        vertical-align: middle;\n",
       "    }\n",
       "\n",
       "    .dataframe tbody tr th {\n",
       "        vertical-align: top;\n",
       "    }\n",
       "\n",
       "    .dataframe thead th {\n",
       "        text-align: right;\n",
       "    }\n",
       "</style>\n",
       "<table border=\"1\" class=\"dataframe\">\n",
       "  <thead>\n",
       "    <tr style=\"text-align: right;\">\n",
       "      <th></th>\n",
       "      <th>Dep City Name</th>\n",
       "      <th>Total</th>\n",
       "    </tr>\n",
       "  </thead>\n",
       "  <tbody>\n",
       "    <tr>\n",
       "      <td>23</td>\n",
       "      <td>London (GB)</td>\n",
       "      <td>366464</td>\n",
       "    </tr>\n",
       "    <tr>\n",
       "      <td>66</td>\n",
       "      <td>Paris</td>\n",
       "      <td>223567</td>\n",
       "    </tr>\n",
       "    <tr>\n",
       "      <td>15</td>\n",
       "      <td>Istanbul</td>\n",
       "      <td>201980</td>\n",
       "    </tr>\n",
       "    <tr>\n",
       "      <td>16</td>\n",
       "      <td>Moscow</td>\n",
       "      <td>189453</td>\n",
       "    </tr>\n",
       "    <tr>\n",
       "      <td>110</td>\n",
       "      <td>Amsterdam</td>\n",
       "      <td>174667</td>\n",
       "    </tr>\n",
       "    <tr>\n",
       "      <td>7</td>\n",
       "      <td>Frankfurt</td>\n",
       "      <td>173727</td>\n",
       "    </tr>\n",
       "    <tr>\n",
       "      <td>10</td>\n",
       "      <td>Munich</td>\n",
       "      <td>163443</td>\n",
       "    </tr>\n",
       "    <tr>\n",
       "      <td>48</td>\n",
       "      <td>Milan</td>\n",
       "      <td>145975</td>\n",
       "    </tr>\n",
       "    <tr>\n",
       "      <td>186</td>\n",
       "      <td>Madrid</td>\n",
       "      <td>136107</td>\n",
       "    </tr>\n",
       "    <tr>\n",
       "      <td>37</td>\n",
       "      <td>Rome (IT)</td>\n",
       "      <td>130727</td>\n",
       "    </tr>\n",
       "    <tr>\n",
       "      <td>40</td>\n",
       "      <td>Barcelona (ES)</td>\n",
       "      <td>128049</td>\n",
       "    </tr>\n",
       "    <tr>\n",
       "      <td>96</td>\n",
       "      <td>Stockholm</td>\n",
       "      <td>120330</td>\n",
       "    </tr>\n",
       "    <tr>\n",
       "      <td>65</td>\n",
       "      <td>Oslo</td>\n",
       "      <td>113251</td>\n",
       "    </tr>\n",
       "    <tr>\n",
       "      <td>112</td>\n",
       "      <td>Copenhagen</td>\n",
       "      <td>100259</td>\n",
       "    </tr>\n",
       "    <tr>\n",
       "      <td>19</td>\n",
       "      <td>Vienna</td>\n",
       "      <td>100015</td>\n",
       "    </tr>\n",
       "    <tr>\n",
       "      <td>59</td>\n",
       "      <td>Berlin</td>\n",
       "      <td>96471</td>\n",
       "    </tr>\n",
       "    <tr>\n",
       "      <td>47</td>\n",
       "      <td>Zurich</td>\n",
       "      <td>94027</td>\n",
       "    </tr>\n",
       "    <tr>\n",
       "      <td>22</td>\n",
       "      <td>Brussels</td>\n",
       "      <td>85602</td>\n",
       "    </tr>\n",
       "    <tr>\n",
       "      <td>126</td>\n",
       "      <td>Palma de Mallorca</td>\n",
       "      <td>82379</td>\n",
       "    </tr>\n",
       "    <tr>\n",
       "      <td>108</td>\n",
       "      <td>Nice</td>\n",
       "      <td>81329</td>\n",
       "    </tr>\n",
       "  </tbody>\n",
       "</table>\n",
       "</div>"
      ],
      "text/plain": [
       "         Dep City Name   Total\n",
       "23         London (GB)  366464\n",
       "66               Paris  223567\n",
       "15            Istanbul  201980\n",
       "16              Moscow  189453\n",
       "110          Amsterdam  174667\n",
       "7            Frankfurt  173727\n",
       "10              Munich  163443\n",
       "48               Milan  145975\n",
       "186             Madrid  136107\n",
       "37           Rome (IT)  130727\n",
       "40      Barcelona (ES)  128049\n",
       "96           Stockholm  120330\n",
       "65                Oslo  113251\n",
       "112         Copenhagen  100259\n",
       "19              Vienna  100015\n",
       "59              Berlin   96471\n",
       "47              Zurich   94027\n",
       "22            Brussels   85602\n",
       "126  Palma de Mallorca   82379\n",
       "108               Nice   81329"
      ]
     },
     "execution_count": 15,
     "metadata": {},
     "output_type": "execute_result"
    }
   ],
   "source": [
    "# Top 20 most popular cities to depart from\n",
    "top=p_city.head(20)\n",
    "top"
   ]
  },
  {
   "cell_type": "code",
   "execution_count": 16,
   "metadata": {},
   "outputs": [
    {
     "data": {
      "image/png": "[encoded data removed]",
      "text/plain": [
       "<Figure size 1440x1440 with 1 Axes>"
      ]
     },
     "metadata": {
      "needs_background": "light"
     },
     "output_type": "display_data"
    }
   ],
   "source": [
    "fig, ax = plt.subplots(figsize=(20,20))\n",
    "\n",
    "ax.bar(top['Dep City Name'],top['Total'])\n",
    "ax.set_title('Top 20 most popular cities to depart from')\n",
    "ax.set_xticklabels(labels=top['Dep City Name'],rotation=45)\n",
    "ax.set_xlabel('Cities')\n",
    "ax.set_ylabel('Number of Flights');"
   ]
  },
  {
   "cell_type": "code",
   "execution_count": 17,
   "metadata": {},
   "outputs": [],
   "source": [
    "# Graph above is assuming Dublin is seperate from Dublin (IE), Rome(IT) seperate from Rome, etc... the given dataset seperates these two thus I kept \n",
    "# these as seperate cities as well. This would be a clarifying question I would ask if given the opportunity."
   ]
  },
  {
   "cell_type": "markdown",
   "metadata": {},
   "source": [
    "## 1B:  \"Which city has the lowest average distance of outgoing flights\""
   ]
  },
  {
   "cell_type": "code",
   "execution_count": 18,
   "metadata": {},
   "outputs": [],
   "source": [
    "avg_dist=distance.groupby('Dep City Name',sort=False)['Distance(m)'].mean().reset_index(name='Distance')"
   ]
  },
  {
   "cell_type": "code",
   "execution_count": 19,
   "metadata": {},
   "outputs": [],
   "source": [
    "avg_distance=avg_dist.sort_values(by='Distance').head(20)"
   ]
  },
  {
   "cell_type": "code",
   "execution_count": 20,
   "metadata": {},
   "outputs": [
    {
     "data": {
      "text/html": [
       "<div>\n",
       "<style scoped>\n",
       "    .dataframe tbody tr th:only-of-type {\n",
       "        vertical-align: middle;\n",
       "    }\n",
       "\n",
       "    .dataframe tbody tr th {\n",
       "        vertical-align: top;\n",
       "    }\n",
       "\n",
       "    .dataframe thead th {\n",
       "        text-align: right;\n",
       "    }\n",
       "</style>\n",
       "<table border=\"1\" class=\"dataframe\">\n",
       "  <thead>\n",
       "    <tr style=\"text-align: right;\">\n",
       "      <th></th>\n",
       "      <th>Dep City Name</th>\n",
       "      <th>Distance</th>\n",
       "    </tr>\n",
       "  </thead>\n",
       "  <tbody>\n",
       "    <tr>\n",
       "      <td>814</td>\n",
       "      <td>Juist</td>\n",
       "      <td>4.500000</td>\n",
       "    </tr>\n",
       "    <tr>\n",
       "      <td>813</td>\n",
       "      <td>Monaco</td>\n",
       "      <td>11.000000</td>\n",
       "    </tr>\n",
       "    <tr>\n",
       "      <td>811</td>\n",
       "      <td>Stronsay</td>\n",
       "      <td>11.500000</td>\n",
       "    </tr>\n",
       "    <tr>\n",
       "      <td>812</td>\n",
       "      <td>Kasos Island</td>\n",
       "      <td>13.000000</td>\n",
       "    </tr>\n",
       "    <tr>\n",
       "      <td>805</td>\n",
       "      <td>Westray</td>\n",
       "      <td>14.000000</td>\n",
       "    </tr>\n",
       "    <tr>\n",
       "      <td>804</td>\n",
       "      <td>Papa Westray</td>\n",
       "      <td>14.666667</td>\n",
       "    </tr>\n",
       "    <tr>\n",
       "      <td>800</td>\n",
       "      <td>Norderney</td>\n",
       "      <td>15.000000</td>\n",
       "    </tr>\n",
       "    <tr>\n",
       "      <td>806</td>\n",
       "      <td>Sanday</td>\n",
       "      <td>15.000000</td>\n",
       "    </tr>\n",
       "    <tr>\n",
       "      <td>809</td>\n",
       "      <td>Eday</td>\n",
       "      <td>16.500000</td>\n",
       "    </tr>\n",
       "    <tr>\n",
       "      <td>808</td>\n",
       "      <td>Algeciras Rail Station</td>\n",
       "      <td>17.000000</td>\n",
       "    </tr>\n",
       "    <tr>\n",
       "      <td>810</td>\n",
       "      <td>Papa Stour</td>\n",
       "      <td>17.000000</td>\n",
       "    </tr>\n",
       "    <tr>\n",
       "      <td>801</td>\n",
       "      <td>North Ronaldsay</td>\n",
       "      <td>18.750000</td>\n",
       "    </tr>\n",
       "    <tr>\n",
       "      <td>807</td>\n",
       "      <td>Torsby</td>\n",
       "      <td>22.000000</td>\n",
       "    </tr>\n",
       "    <tr>\n",
       "      <td>803</td>\n",
       "      <td>Foula</td>\n",
       "      <td>28.000000</td>\n",
       "    </tr>\n",
       "    <tr>\n",
       "      <td>778</td>\n",
       "      <td>Ceuta</td>\n",
       "      <td>29.000000</td>\n",
       "    </tr>\n",
       "    <tr>\n",
       "      <td>791</td>\n",
       "      <td>Coll</td>\n",
       "      <td>29.500000</td>\n",
       "    </tr>\n",
       "    <tr>\n",
       "      <td>802</td>\n",
       "      <td>Land's End</td>\n",
       "      <td>30.000000</td>\n",
       "    </tr>\n",
       "    <tr>\n",
       "      <td>796</td>\n",
       "      <td>Colonsay</td>\n",
       "      <td>34.500000</td>\n",
       "    </tr>\n",
       "    <tr>\n",
       "      <td>799</td>\n",
       "      <td>Vopnafjordur</td>\n",
       "      <td>37.000000</td>\n",
       "    </tr>\n",
       "    <tr>\n",
       "      <td>790</td>\n",
       "      <td>Vardo</td>\n",
       "      <td>40.000000</td>\n",
       "    </tr>\n",
       "  </tbody>\n",
       "</table>\n",
       "</div>"
      ],
      "text/plain": [
       "              Dep City Name   Distance\n",
       "814                   Juist   4.500000\n",
       "813                  Monaco  11.000000\n",
       "811                Stronsay  11.500000\n",
       "812            Kasos Island  13.000000\n",
       "805                 Westray  14.000000\n",
       "804            Papa Westray  14.666667\n",
       "800               Norderney  15.000000\n",
       "806                  Sanday  15.000000\n",
       "809                    Eday  16.500000\n",
       "808  Algeciras Rail Station  17.000000\n",
       "810              Papa Stour  17.000000\n",
       "801         North Ronaldsay  18.750000\n",
       "807                  Torsby  22.000000\n",
       "803                   Foula  28.000000\n",
       "778                   Ceuta  29.000000\n",
       "791                    Coll  29.500000\n",
       "802              Land's End  30.000000\n",
       "796                Colonsay  34.500000\n",
       "799            Vopnafjordur  37.000000\n",
       "790                   Vardo  40.000000"
      ]
     },
     "execution_count": 20,
     "metadata": {},
     "output_type": "execute_result"
    }
   ],
   "source": [
    "# Lowest avg distance per city\n",
    "avg_distance"
   ]
  },
  {
   "cell_type": "code",
   "execution_count": 21,
   "metadata": {},
   "outputs": [
    {
     "data": {
      "image/png": "[encoded data removed]",
      "text/plain": [
       "<Figure size 1440x1440 with 1 Axes>"
      ]
     },
     "metadata": {
      "needs_background": "light"
     },
     "output_type": "display_data"
    }
   ],
   "source": [
    "fig, ax = plt.subplots(figsize=(20,20))\n",
    "\n",
    "ax.bar(avg_distance['Dep City Name'],avg_distance['Distance'])\n",
    "ax.set_title('Lowest 20 distances from a particular city')\n",
    "ax.set_xticklabels(labels=avg_distance['Dep City Name'],rotation=45)\n",
    "ax.set_xlabel('Cities')\n",
    "ax.set_ylabel('Distance (m)');"
   ]
  },
  {
   "cell_type": "markdown",
   "metadata": {},
   "source": [
    "## BONUS:  More EDA on questions I was curious about"
   ]
  },
  {
   "cell_type": "markdown",
   "metadata": {},
   "source": [
    "In Roei Ganzarski's speech at the 2019 WA State of Technology he mentioned that the goal for the Electric Propulsion System was to achieve a flight of 650 Miles. I want to know what is the highest frequency flight at a distance of 650 miles or under. This would tell us which cities would best be targeted to maximize profit and efficiency given the current compacity limits of the Electric Propulsion System."
   ]
  },
  {
   "cell_type": "code",
   "execution_count": 22,
   "metadata": {},
   "outputs": [],
   "source": [
    "d650 = distance[distance['Distance(m)'] <= 650]"
   ]
  },
  {
   "cell_type": "code",
   "execution_count": 23,
   "metadata": {},
   "outputs": [],
   "source": [
    "under650 = d650.groupby('Dep City Name',sort=False)['Frequency'].sum().reset_index(name='Total')"
   ]
  },
  {
   "cell_type": "code",
   "execution_count": 24,
   "metadata": {},
   "outputs": [
    {
     "data": {
      "text/html": [
       "<div>\n",
       "<style scoped>\n",
       "    .dataframe tbody tr th:only-of-type {\n",
       "        vertical-align: middle;\n",
       "    }\n",
       "\n",
       "    .dataframe tbody tr th {\n",
       "        vertical-align: top;\n",
       "    }\n",
       "\n",
       "    .dataframe thead th {\n",
       "        text-align: right;\n",
       "    }\n",
       "</style>\n",
       "<table border=\"1\" class=\"dataframe\">\n",
       "  <thead>\n",
       "    <tr style=\"text-align: right;\">\n",
       "      <th></th>\n",
       "      <th>Dep City Name</th>\n",
       "      <th>Total</th>\n",
       "    </tr>\n",
       "  </thead>\n",
       "  <tbody>\n",
       "    <tr>\n",
       "      <td>7</td>\n",
       "      <td>London (GB)</td>\n",
       "      <td>248549</td>\n",
       "    </tr>\n",
       "    <tr>\n",
       "      <td>79</td>\n",
       "      <td>Paris</td>\n",
       "      <td>164647</td>\n",
       "    </tr>\n",
       "    <tr>\n",
       "      <td>17</td>\n",
       "      <td>Istanbul</td>\n",
       "      <td>152906</td>\n",
       "    </tr>\n",
       "    <tr>\n",
       "      <td>1</td>\n",
       "      <td>Amsterdam</td>\n",
       "      <td>139033</td>\n",
       "    </tr>\n",
       "    <tr>\n",
       "      <td>62</td>\n",
       "      <td>Frankfurt</td>\n",
       "      <td>131443</td>\n",
       "    </tr>\n",
       "    <tr>\n",
       "      <td>99</td>\n",
       "      <td>Munich</td>\n",
       "      <td>127507</td>\n",
       "    </tr>\n",
       "    <tr>\n",
       "      <td>8</td>\n",
       "      <td>Milan</td>\n",
       "      <td>117822</td>\n",
       "    </tr>\n",
       "    <tr>\n",
       "      <td>245</td>\n",
       "      <td>Stockholm</td>\n",
       "      <td>90401</td>\n",
       "    </tr>\n",
       "    <tr>\n",
       "      <td>71</td>\n",
       "      <td>Copenhagen</td>\n",
       "      <td>87936</td>\n",
       "    </tr>\n",
       "    <tr>\n",
       "      <td>20</td>\n",
       "      <td>Oslo</td>\n",
       "      <td>86962</td>\n",
       "    </tr>\n",
       "    <tr>\n",
       "      <td>101</td>\n",
       "      <td>Moscow</td>\n",
       "      <td>86888</td>\n",
       "    </tr>\n",
       "    <tr>\n",
       "      <td>82</td>\n",
       "      <td>Barcelona (ES)</td>\n",
       "      <td>84706</td>\n",
       "    </tr>\n",
       "    <tr>\n",
       "      <td>48</td>\n",
       "      <td>Rome (IT)</td>\n",
       "      <td>83623</td>\n",
       "    </tr>\n",
       "    <tr>\n",
       "      <td>111</td>\n",
       "      <td>Zurich</td>\n",
       "      <td>79255</td>\n",
       "    </tr>\n",
       "    <tr>\n",
       "      <td>132</td>\n",
       "      <td>Madrid</td>\n",
       "      <td>78769</td>\n",
       "    </tr>\n",
       "    <tr>\n",
       "      <td>28</td>\n",
       "      <td>Berlin</td>\n",
       "      <td>78682</td>\n",
       "    </tr>\n",
       "    <tr>\n",
       "      <td>92</td>\n",
       "      <td>Vienna</td>\n",
       "      <td>78301</td>\n",
       "    </tr>\n",
       "    <tr>\n",
       "      <td>56</td>\n",
       "      <td>Nice</td>\n",
       "      <td>73820</td>\n",
       "    </tr>\n",
       "    <tr>\n",
       "      <td>75</td>\n",
       "      <td>Duesseldorf</td>\n",
       "      <td>62143</td>\n",
       "    </tr>\n",
       "    <tr>\n",
       "      <td>83</td>\n",
       "      <td>Brussels</td>\n",
       "      <td>56638</td>\n",
       "    </tr>\n",
       "  </tbody>\n",
       "</table>\n",
       "</div>"
      ],
      "text/plain": [
       "      Dep City Name   Total\n",
       "7       London (GB)  248549\n",
       "79            Paris  164647\n",
       "17         Istanbul  152906\n",
       "1         Amsterdam  139033\n",
       "62        Frankfurt  131443\n",
       "99           Munich  127507\n",
       "8             Milan  117822\n",
       "245       Stockholm   90401\n",
       "71       Copenhagen   87936\n",
       "20             Oslo   86962\n",
       "101          Moscow   86888\n",
       "82   Barcelona (ES)   84706\n",
       "48        Rome (IT)   83623\n",
       "111          Zurich   79255\n",
       "132          Madrid   78769\n",
       "28           Berlin   78682\n",
       "92           Vienna   78301\n",
       "56             Nice   73820\n",
       "75      Duesseldorf   62143\n",
       "83         Brussels   56638"
      ]
     },
     "execution_count": 24,
     "metadata": {},
     "output_type": "execute_result"
    }
   ],
   "source": [
    "u650 = under650.sort_values(by='Total',ascending=False).head(20)\n",
    "u650"
   ]
  },
  {
   "cell_type": "code",
   "execution_count": 25,
   "metadata": {},
   "outputs": [
    {
     "data": {
      "image/png": "[encoded data removed]",
      "text/plain": [
       "<Figure size 1440x1440 with 1 Axes>"
      ]
     },
     "metadata": {
      "needs_background": "light"
     },
     "output_type": "display_data"
    }
   ],
   "source": [
    "fig, ax = plt.subplots(figsize=(20,20))\n",
    "\n",
    "ax.bar(u650['Dep City Name'],u650['Total'])\n",
    "ax.set_title('Top 20 most popular cities to depart from given current compacity')\n",
    "ax.set_xticklabels(labels=u650['Dep City Name'],rotation=45)\n",
    "ax.set_xlabel('Cities')\n",
    "ax.set_ylabel('Number of Flights');"
   ]
  },
  {
   "cell_type": "markdown",
   "metadata": {},
   "source": [
    "Moscow is one of the biggest changes from the original question asked in part 1. About 100,000 more flights were flown out of moscow that were over 650 miles and under 1000 miles. Moscow should be one of the more targeted cities to expand too as the mileage capacity increases in the future."
   ]
  },
  {
   "cell_type": "markdown",
   "metadata": {},
   "source": [
    "## Question 2 A & B:  Sellenium webdriver to automate opening the aircraft type web page from flightaware.com and allows the user to insert any given airplane code"
   ]
  },
  {
   "cell_type": "code",
   "execution_count": 26,
   "metadata": {},
   "outputs": [],
   "source": [
    "from selenium import webdriver\n",
    "from selenium.webdriver.common.keys import Keys\n",
    "from selenium.webdriver.chrome.options import Options\n",
    "from selenium.common.exceptions import WebDriverException"
   ]
  },
  {
   "cell_type": "code",
   "execution_count": 33,
   "metadata": {},
   "outputs": [],
   "source": [
    "def retrive_aircraft_information(airplane_code):\n",
    "    '''\n",
    "    INPUT: string - Aircraft Code\n",
    "    '''\n",
    "    # Using Chrome to access web\n",
    "    driver = webdriver.Chrome('./chromedriver1')\n",
    "    # Open the website\n",
    "    driver.get('https://flightaware.com/live/aircrafttype/')\n",
    "    \n",
    "    # Path to textbox to insert given airplane_code\n",
    "    airplane=driver.find_element_by_xpath(\"/html/body/div[3]/div[2]/form/div/input\")\n",
    "    airplane.send_keys(airplane_code)\n",
    "    \n",
    "    # Clicks button after airplane code is entered\n",
    "    button=driver.find_element_by_xpath(\"/html/body/div[3]/div[2]/form/div/button\")\n",
    "    button.click()\n",
    "\n"
   ]
  },
  {
   "cell_type": "code",
   "execution_count": 34,
   "metadata": {},
   "outputs": [],
   "source": [
    "#To answer the given question specifically, a list of the four aircrafts: Pilatus PC-12, Cessna Caravan, Beechcraft Super King Air 200, Cessna Citation Excel/ELS\n",
    "airplane_types=['PC12','C208','BE20','C56X']\n",
    "aircraft_avg_dict = {}"
   ]
  },
  {
   "cell_type": "code",
   "execution_count": 35,
   "metadata": {},
   "outputs": [],
   "source": [
    "retrive_aircraft_information('SR22')"
   ]
  },
  {
   "cell_type": "code",
   "execution_count": 182,
   "metadata": {},
   "outputs": [
    {
     "name": "stdout",
     "output_type": "stream",
     "text": [
      "{'PC12': 38.0, 'C208': 57.0, 'BE20': 52.84615384615385, 'C56X': 106.0}\n"
     ]
    }
   ],
   "source": [
    "# Using Chrome to access web\n",
    "driver = webdriver.Chrome('./chromedriver1')\n",
    "    \n",
    "def retrive_aircraft_information(airplane_code):\n",
    "    '''\n",
    "    INPUT: string - Aircraft Code\n",
    "    '''\n",
    "    # Open the website\n",
    "    driver.get('https://flightaware.com/live/aircrafttype/')\n",
    "    \n",
    "    # Path to textbox to insert given airplane_code\n",
    "    airplane=driver.find_element_by_xpath(\"/html/body/div[3]/div[1]/form/div/input\")\n",
    "    airplane.send_keys(airplane_code)\n",
    "    \n",
    "    # Clicks button after airplane code is entered\n",
    "    button=driver.find_element_by_xpath(\"/html/body/div[3]/div[1]/form/div/button\")\n",
    "    button.click()\n",
    "\n",
    "# Run this cell for four browsers to open for each aircraft listed above\n",
    "for i in airplane_types:\n",
    "    total_flight_time = 0\n",
    "    number_of_flights = 0\n",
    "    \n",
    "    retrive_aircraft_information(i)\n",
    "    content = driver.find_element_by_class_name(\"prettyTable\")\n",
    "    table_body = content.find_element_by_tag_name(\"tbody\")\n",
    "    flight_rows = table_body.find_elements_by_tag_name(\"tr\")\n",
    "    \n",
    "    for flight in flight_rows:\n",
    "        flight_information_columns = flight.find_elements_by_tag_name('td')\n",
    "        flight_time = flight_information_columns[-1].text\n",
    "        \n",
    "        # Check for empty values\n",
    "        if flight_time == '':\n",
    "            continue\n",
    "        else:\n",
    "            duration = flight_time.split(':')\n",
    "            hours = int(duration[0])\n",
    "            minutes = int(duration[1])\n",
    "\n",
    "            hours *= 60\n",
    "            total = hours + minutes\n",
    "            total_flight_time += total\n",
    "            number_of_flights += 1\n",
    "\n",
    "    # Error check to make sure at least one value was gathered.\n",
    "        if number_of_flights == 0:\n",
    "            print('No recorded flights')\n",
    "\n",
    "    avg_flight_time = total_flight_time / number_of_flights\n",
    "    \n",
    "    aircraft_avg_dict[i] = avg_flight_time\n",
    "    \n",
    "print(aircraft_avg_dict)"
   ]
  },
  {
   "cell_type": "markdown",
   "metadata": {},
   "source": [
    "## Question 2 Converting to XSLX"
   ]
  },
  {
   "cell_type": "code",
   "execution_count": 200,
   "metadata": {},
   "outputs": [],
   "source": [
    "# Requests sends and recieves HTTP requests.\n",
    "import requests\n",
    "import urllib\n",
    "# Beautiful Soup parses HTML documents in python.\n",
    "from bs4 import BeautifulSoup"
   ]
  },
  {
   "cell_type": "code",
   "execution_count": 205,
   "metadata": {},
   "outputs": [],
   "source": [
    "#C56X travel times\n",
    "#Change url for each aircraft\n",
    "r = requests.get('https://flightaware.com/live/aircrafttype/PC12')"
   ]
  },
  {
   "cell_type": "code",
   "execution_count": 206,
   "metadata": {},
   "outputs": [],
   "source": [
    "soup = BeautifulSoup(r.content, \"html\")\n",
    "div = soup.find(\"div\", {\"class\": \"pageContainer\"})\n",
    "table = div.find(\"table\", {\"class\": \"prettyTable fullWidth\"})\n",
    "# This returns an iterator over the rows in the table.\n",
    "rows = table.find_all(\"tr\")"
   ]
  },
  {
   "cell_type": "code",
   "execution_count": 207,
   "metadata": {},
   "outputs": [],
   "source": [
    "all_rows =[]\n",
    "\n",
    "empty_row = {\n",
    "    \"ident\": None, \"airplane_type\": None, \"origin\" : None, \"destination\" : None, \"departure\" : None, \"arrival\" : None, \"travel_time\" : None\n",
    "}\n",
    "\n",
    "# The first two rows contains header information, so we are skipping it.\n",
    "for row in rows[2:]:\n",
    "    new_row = copy.copy(empty_row)\n",
    "    # A list of all the entries in the row.\n",
    "    ident = row.find_all(\"td\")[0].text[1:]\n",
    "    airplane_type = row.find_all(\"td\")[1].text\n",
    "    origin = row.find_all(\"td\")[2].text\n",
    "    destination = row.find_all(\"td\")[3].text\n",
    "    departure = row.find_all(\"td\")[4].text\n",
    "    arrival = row.find_all(\"td\")[5].text\n",
    "    travel_time = row.find_all(\"td\")[6].text\n",
    "    \n",
    "    new_row['ident'] = ident\n",
    "    new_row['airplane_type'] = airplane_type\n",
    "    new_row['origin'] = origin\n",
    "    new_row['destination'] = destination\n",
    "    new_row['departure'] = departure\n",
    "    new_row['arrival'] = arrival\n",
    "    new_row['travel_time'] = travel_time\n",
    "    \n",
    "    all_rows.append(new_row) "
   ]
  },
  {
   "cell_type": "code",
   "execution_count": 208,
   "metadata": {},
   "outputs": [],
   "source": [
    "pc12=pd.DataFrame(data=all_rows)\n",
    "pc12.to_excel('PC12.xlsx')"
   ]
  },
  {
   "cell_type": "code",
   "execution_count": 189,
   "metadata": {},
   "outputs": [
    {
     "data": {
      "image/png": "[encoded data removed]",
      "text/plain": [
       "<Figure size 1440x1440 with 1 Axes>"
      ]
     },
     "metadata": {},
     "output_type": "display_data"
    }
   ],
   "source": [
    "\n",
    "fig, ax = plt.subplots(figsize=(20,20))\n",
    "ax.set_title('Average Flight Times by Aircraft Type')\n",
    "ax.set_xlabel('Aircraft Type')\n",
    "ax.set_ylabel('Avg Flight Time (min)');\n",
    "for k in sorted(aircraft_avg_dict):\n",
    "    ax.bar(k,aircraft_avg_dict[k])\n"
   ]
  },
  {
   "cell_type": "code",
   "execution_count": null,
   "metadata": {},
   "outputs": [],
   "source": []
  },
  {
   "cell_type": "code",
   "execution_count": null,
   "metadata": {},
   "outputs": [],
   "source": []
  }
 ],
 "metadata": {
  "kernelspec": {
   "display_name": "Python 3",
   "language": "python",
   "name": "python3"
  },
  "language_info": {
   "codemirror_mode": {
    "name": "ipython",
    "version": 3
   },
   "file_extension": ".py",
   "mimetype": "text/x-python",
   "name": "python",
   "nbconvert_exporter": "python",
   "pygments_lexer": "ipython3",
   "version": "3.7.4"
  }
 },
 "nbformat": 4,
 "nbformat_minor": 4
}
